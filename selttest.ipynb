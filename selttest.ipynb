{
 "cells": [
  {
   "cell_type": "markdown",
   "metadata": {},
   "source": [
    "You want to find out if there is the right amount of cola in 330ml Coca-Cola cans. To do this, you buy a random number of cans of cola and measure the amount of cola in those cans.\n",
    "Could we say that overall the average amount of cola is 330ml per can at the alpha=0.05 significance level?\n",
    "\n",
    "Data from your sample is available here: dataset.\n",
    "\n",
    "The distribution of coca-cola amounts is normal?\n",
    "The average cola is significantly different from 330ml?\n",
    "The test statistic is equal to:\n",
    "p-value is equal to:\n"
   ]
  },
  {
   "cell_type": "code",
   "execution_count": 20,
   "metadata": {},
   "outputs": [
    {
     "name": "stdout",
     "output_type": "stream",
     "text": [
      "Shapiro:\n",
      "0.8901076457098182 0.011244534059134989\n",
      "Not normal\n",
      "[0.] [5.96046448e-08]\n",
      "reject null hypothesis, median is significanlty different\n"
     ]
    },
    {
     "name": "stderr",
     "output_type": "stream",
     "text": [
      "<>:3: SyntaxWarning: invalid escape sequence '\\D'\n",
      "<>:3: SyntaxWarning: invalid escape sequence '\\D'\n",
      "C:\\Users\\rokig\\AppData\\Local\\Temp\\ipykernel_12156\\3549960271.py:3: SyntaxWarning: invalid escape sequence '\\D'\n",
      "  cola = pd.read_csv(\"D:\\Downloads\\cola.csv\")\n"
     ]
    }
   ],
   "source": [
    "import pandas as pd\n",
    "from scipy.stats import shapiro, wilcoxon\n",
    "cola = pd.read_csv(r\"D:\\Downloads\\cola.csv\")\n",
    "print(\"Shapiro:\")\n",
    "shapiroCola = shapiro(cola)\n",
    "print(shapiroCola.statistic, shapiroCola.pvalue)\n",
    "if(shapiroCola.pvalue > 0.05):\n",
    "    print(\"Normal\")\n",
    "else:\n",
    "    print(\"Not normal\")\n",
    "# Perform wilcoxon\n",
    "median = 330\n",
    "stat, p_value = wilcoxon(cola - median)\n",
    "print(stat, p_value)\n",
    "if p_value < 0.05:\n",
    "    print(\"reject null hypothesis, median is significanlty different\")\n",
    "else:\n",
    "    print(\"do not reject null hypothesis, median is not significantly different\")"
   ]
  },
  {
   "cell_type": "markdown",
   "metadata": {},
   "source": [
    "Olgun A. says he deserves a raise because his students have an exceptionally high success rate among teachers in our department on the final exam. The dean compared the success rates of 60 randomly selected students from Olgun’s classes and 85 randomly selected students from Karol’s classes together with 35 from the class of Prof. Kot. Twenty four of Olgun’s group passed the exam, 12 of the students from Karol’s classes passed and 12 from Prof. Kot also managed to pass in the first term. Verify Olgun’s claim (alpha=0.05)."
   ]
  },
  {
   "cell_type": "code",
   "execution_count": 26,
   "metadata": {},
   "outputs": [
    {
     "name": "stdout",
     "output_type": "stream",
     "text": [
      "stat: 13.33842627960275 p-value: 0.0012693971962672948\n",
      "reject h0\n"
     ]
    }
   ],
   "source": [
    "# compared 60 olgun / 24 passed\n",
    "# to 85 karol  / 12 passed\n",
    "# 35 Kot  / 12 passed\n",
    "import numpy as np\n",
    "from scipy.stats import chi2_contingency\n",
    "\n",
    "data = np.array([\n",
    "[24,36], #olgun\n",
    "[12,73], #karol\n",
    "[12,23]  #kot\n",
    "])\n",
    "\n",
    "#chi-square\n",
    "\n",
    "chi2_stat, p_value, dof, expected = chi2_contingency(data)\n",
    "print(\"stat:\", chi2_stat, \"p-value:\", p_value)\n",
    "\n",
    "if p_value < 0.05:\n",
    "    print(\"reject h0\")\n",
    "else:\n",
    "    print(\"fail to reject h0\")"
   ]
  },
  {
   "cell_type": "markdown",
   "metadata": {},
   "source": [
    "This data frame contains the responses of 317\n",
    " Mathematical Statistics students at Gdansk Tech to a number of questions. Your dataset is available here: dataset. Provide the necessary calculations without any missing values.\n",
    "\n",
    "Please perform the following study using significance level alpha = 0.1.\n",
    "answers: \n",
    "test stat: 0.5485\n",
    "p-value: 0.2295\n",
    "number of respondents: 935"
   ]
  },
  {
   "cell_type": "code",
   "execution_count": 52,
   "metadata": {},
   "outputs": [
    {
     "name": "stdout",
     "output_type": "stream",
     "text": [
      "contigency table:\n",
      "Exer    Freq  Some\n",
      "Sex               \n",
      "Female    73    75\n",
      "Male      89    51\n",
      "stat: 5.369222283507998 p-value: 0.02049511371836752\n",
      "reject h0\n",
      "Effect Size (Cramér's V): 0.1365\n",
      "Required Sample Size for 90% Power: 460\n"
     ]
    }
   ],
   "source": [
    "import pandas as pd\n",
    "from statsmodels.stats.power import GofChisquarePower\n",
    "students = pd.read_csv(r\"D:\\Downloads\\students.csv\")\n",
    "alpha = 0.1\n",
    "students = students.dropna(subset=['Sex', 'Exer'])\n",
    "#create contingency table\n",
    "contingency_table = pd.crosstab(students['Sex'], students['Exer'])\n",
    "print(\"contigency table:\")\n",
    "print(contingency_table)\n",
    "\n",
    "#perform chi-square\n",
    "chi2_stat, p_value, dof, expected = chi2_contingency(contingency_table)\n",
    "print(\"stat:\", chi2_stat, \"p-value:\", p_value)\n",
    "\n",
    "if p_value < alpha:\n",
    "    print(\"reject h0\")\n",
    "else:\n",
    "    print(\"fail to reject h0\")\n",
    "\n",
    "total_sample_size = contingency_table.values.sum()  # Total number of respondents\n",
    "\n",
    "# Calculate the effect size (Cramér's V)\n",
    "rows, cols = contingency_table.shape\n",
    "phi = np.sqrt(chi2_stat / (total_sample_size * (min(rows - 1, cols - 1))))\n",
    "\n",
    "# Calculate the required sample size for 90% power\n",
    "alpha = 0.1  # Significance level\n",
    "power = 0.9  # Desired power\n",
    "\n",
    "power_analysis = GofChisquarePower()\n",
    "required_sample_size = power_analysis.solve_power(effect_size=phi, alpha=alpha, power=power)\n",
    "\n",
    "print(f\"Effect Size (Cramér's V): {phi:.4f}\")\n",
    "print(f\"Required Sample Size for 90% Power: {np.ceil(required_sample_size):.0f}\")"
   ]
  },
  {
   "cell_type": "markdown",
   "metadata": {},
   "source": [
    "Assume that you’re a market researcher and you want to compare experience of 2 different groups of randomly selected people with two different scooter sharing service providers. Would you say that there is a significant difference in satisfaction scores of those people with scooter car sharing service providers (use alpha=0.05)"
   ]
  },
  {
   "cell_type": "code",
   "execution_count": null,
   "metadata": {},
   "outputs": [
    {
     "name": "stdout",
     "output_type": "stream",
     "text": [
      "Shapiro:\n",
      "Statistic: 0.9689443524556394 p-value: 0.20959242743019718\n",
      "Levene:\n",
      "Statistic: 2.6615502686108994 p-value 0.10934521327639143\n",
      "T-test:\n",
      "Statistic: 2.6278072311320253 p-value: 0.011505059584652368\n"
     ]
    }
   ],
   "source": [
    "import pandas as pd\n",
    "from scipy.stats import shapiro, levene, ttest_ind\n",
    "\n",
    "scooter = pd.read_excel(r\"D:\\Downloads\\dataset_scooter.xlsx\")\n",
    "scooter.head()\n",
    "alpha = 0.05\n",
    "\n",
    "# Normality\n",
    "print(\"Shapiro:\")\n",
    "scootershapiro = shapiro(scooter)\n",
    "print(\"Statistic:\", scootershapiro.statistic, \"p-value:\", scootershapiro.pvalue)\n",
    "# Normally distributed\n",
    "\n",
    "# Homogenity of variance\n",
    "levene_test = levene(scooter['Ducati'], scooter['Honda'])\n",
    "print(\"Levene:\")\n",
    "print(\"Statistic:\", levene_test.statistic, \"p-value\", levene_test.pvalue)\n",
    "# Variances are homogeneous\n",
    "\n",
    "# Perfrom t-test for independent samples\n",
    "t_stat, p_value = ttest_ind(scooter['Ducati'], scooter['Honda'], equal_var=True)\n",
    "print(\"T-test:\")\n",
    "print(\"Statistic:\", t_stat, \"p-value:\", p_value)\n",
    "# p-value lower than alpha so we reject h0, there is significant difference"
   ]
  }
 ],
 "metadata": {
  "kernelspec": {
   "display_name": "Python 3",
   "language": "python",
   "name": "python3"
  },
  "language_info": {
   "codemirror_mode": {
    "name": "ipython",
    "version": 3
   },
   "file_extension": ".py",
   "mimetype": "text/x-python",
   "name": "python",
   "nbconvert_exporter": "python",
   "pygments_lexer": "ipython3",
   "version": "3.12.7"
  }
 },
 "nbformat": 4,
 "nbformat_minor": 2
}
