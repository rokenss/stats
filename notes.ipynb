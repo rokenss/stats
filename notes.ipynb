{
 "cells": [
  {
   "cell_type": "markdown",
   "metadata": {},
   "source": [
    "NOTES FOR LAB EXAM :DDDD!!!!!"
   ]
  },
  {
   "cell_type": "markdown",
   "metadata": {},
   "source": [
    "ALL IMPORTS OF THE WORLD"
   ]
  },
  {
   "cell_type": "code",
   "execution_count": 7,
   "metadata": {},
   "outputs": [],
   "source": [
    "import pandas as pd\n",
    "import numpy as np\n",
    "import matplotlib.pyplot as plt\n",
    "import seaborn as sns\n",
    "import pingouin as pg\n",
    "from scipy.stats import ttest_ind\n",
    "from scipy.stats import shapiro, mannwhitneyu, levene, kruskal\n",
    "from scipy.stats import chi2_contingency, fisher_exact\n",
    "import statsmodels.api as sm\n",
    "from statsmodels.formula.api import ols\n",
    "from statsmodels.stats.anova import anova_lm\n",
    "from scipy.stats import ks_2samp\n",
    "from statsmodels.stats.multicomp import pairwise_tukeyhsd\n",
    "from statsmodels.stats.power import TTestIndPower"
   ]
  },
  {
   "cell_type": "markdown",
   "metadata": {},
   "source": [
    "PROPORTION AKA CHI-SQUARE TEST WITH CONTINGENCY TABLE"
   ]
  },
  {
   "cell_type": "code",
   "execution_count": null,
   "metadata": {},
   "outputs": [],
   "source": [
    "# Firstly get the data we need\n",
    "higher_rank = salaries[(salaries['rank'] == 'AssocProf') | (salaries['rank'] == 'Prof')]\n",
    "\n",
    "# Since its proportion do contingency table of the rows, columns needed\n",
    "contingency_table = pd.crosstab(higher_rank['sex'], higher_rank['rank'])\n",
    "print(\"Contingency Table:\")\n",
    "print(contingency_table)\n",
    "\n",
    "\n",
    "# Perform Chi-square\n",
    "chi2_stat, p_value, dof, expected = chi2_contingency(contingency_table)\n",
    "print(\"\\nChi-Square Test Results:\")\n",
    "print(\"Chi-Square Statistic =\", chi2_stat)\n",
    "print(\"P-value =\", p_value)\n",
    "print(\"Degrees of Freedom =\", dof)\n",
    "print(\"Expected Frequencies:\")\n",
    "print(expected)\n",
    "\n",
    "# 4. Fisher's Exact Test (for small sample sizes)\n",
    "if (expected < 5).any():\n",
    "    print(\"\\nExpected frequencies are too small. Using Fisher's Exact Test.\")\n",
    "    _, fisher_p_value = fisher_exact(contingency_table)\n",
    "    print(\"Fisher's Exact Test P-value =\", fisher_p_value)\n",
    "else:\n",
    "    print(\"\\nChi-Square test is valid. No need for Fisher's Exact Test.\")\n",
    "\n",
    "# Interpretation of Results\n",
    "if p_value < 0.05:\n",
    "    print(\"\\nConclusion: We reject the null hypothesis.\")\n",
    "else:\n",
    "    print(\"\\nConclusion: We fail to reject the null hypothesis.\")\n"
   ]
  },
  {
   "cell_type": "markdown",
   "metadata": {},
   "source": [
    "CLASSIC T-TEST OR MANN-WHITNEY RANK TEST BASED ON NORMALITY FROM SHAPIRO"
   ]
  },
  {
   "cell_type": "code",
   "execution_count": 3,
   "metadata": {},
   "outputs": [],
   "source": [
    "# Filter data\n",
    "theoretical_salaries = salaries[salaries['discipline'] == 'B']['salary']\n",
    "applied_salaries = salaries[salaries['discipline'] == 'A']['salary']\n",
    "\n",
    "# 1. Normality Test (Shapiro-Wilk Test)\n",
    "print(\"Shapiro-Wilk Test for Normality:\")\n",
    "shapiro_theoretical = shapiro(theoretical_salaries)   # From the data we got\n",
    "shapiro_applied = shapiro(applied_salaries)\n",
    "\n",
    "print(\"Theoretical (B): W-statistic =\", shapiro_theoretical.statistic, \", P-value =\", shapiro_theoretical.pvalue)\n",
    "print(\"Applied (A): W-statistic =\", shapiro_applied.statistic, \", P-value =\", shapiro_applied.pvalue)\n",
    "\n",
    "# 2. Choose the Appropriate Test\n",
    "if shapiro_theoretical.pvalue >= 0.05 and shapiro_applied.pvalue >= 0.05:\n",
    "    print(\"\\nBoth groups are normally distributed. Proceeding with T-test.\")\n",
    "    # Perform T-test\n",
    "    t_stat, p_value = ttest_ind(theoretical_salaries, applied_salaries, equal_var=False)  # Welch's T-test\n",
    "    print(\"\\nT-Test Results:\")\n",
    "    print(\"T-statistic =\", t_stat)\n",
    "    print(\"P-value =\", p_value)\n",
    "    \n",
    "    if p_value < 0.05:\n",
    "        print(\"We reject the null hypothesis: There is a significant difference in salaries.\")\n",
    "    else:\n",
    "        print(\"We fail to reject the null hypothesis: There is no significant difference in salaries.\")\n",
    "else:\n",
    "    print(\"\\nAt least one group is NOT normally distributed. Proceeding with Mann-Whitney U Test.\")\n",
    "    # Perform Mann-Whitney U Test\n",
    "    u_stat, p_value = mannwhitneyu(theoretical_salaries, applied_salaries, alternative='two-sided')\n",
    "    print(\"\\nMann-Whitney U Test Results:\")\n",
    "    print(\"U-statistic =\", u_stat)\n",
    "    print(\"P-value =\", p_value)\n",
    "    \n",
    "    if p_value < 0.05:\n",
    "        print(\"We reject the null hypothesis: There is a significant difference in salaries.\")\n",
    "    else:\n",
    "        print(\"We fail to reject the null hypothesis: There is no significant difference in salaries.\")"
   ]
  },
  {
   "cell_type": "markdown",
   "metadata": {},
   "source": [
    "3-WAY ANOVA"
   ]
  },
  {
   "cell_type": "code",
   "execution_count": null,
   "metadata": {},
   "outputs": [],
   "source": [
    "# Read the exercise \n",
    "# dependent variable - what we want to check e.g salary\n",
    "# independent variable - based on what\n",
    "\n",
    "# Convert categorical variables to category data type so that there is no incorrect Anova behavior\n",
    "salaries['rank'] = salaries['rank'].astype('category')\n",
    "salaries['sex'] = salaries['sex'].astype('category')\n",
    "salaries['discipline'] = salaries['discipline'].astype('category')\n",
    "\n",
    "# Specify the ANOVA model\n",
    "model = ols('salary ~ rank * sex * discipline', data=salaries).fit()\n",
    "\n",
    "# ASSUMPTIONS FOR ANOVA\n",
    "# Normality\n",
    "residuals = model.resid\n",
    "# Perform Shapiro-Wilk test for normality\n",
    "shapiro_test = shapiro(residuals)\n",
    "print(\"Shapiro-Wilk Test:\")\n",
    "print(f\"W-statistic = {shapiro_test.statistic}, p-value = {shapiro_test.pvalue}\")\n",
    "\n",
    "plt.subplot(1, 2, 2)\n",
    "sm.qqplot(residuals, line='s', fit=True)\n",
    "plt.title(\"Q-Q Plot\")\n",
    "plt.tight_layout()\n",
    "plt.show()\n",
    "\n",
    "# Homogenity of variance\n",
    "levene_test = levene(\n",
    "    salaries[salaries['rank'] == 'Prof']['salary'],\n",
    "    salaries[salaries['rank'] == 'AssocProf']['salary'],\n",
    "    salaries[salaries['rank'] == 'AsstProf']['salary']\n",
    ")\n",
    "print(\"\\nLevene's Test:\")\n",
    "print(f\"Statistic = {levene_test.statistic}, p-value = {levene_test.pvalue}\")\n",
    "\n",
    "# If ok do normal anova\n",
    "anova_results = anova_lm(model, typ=2)  # Type II ANOVA table\n",
    "print(anova_results)\n",
    "\n",
    "# If no homogenity of variance\n",
    "# Perform Welch's ANOVA\n",
    "welch_anova = pg.welch_anova(dv='salary', between=['rank', 'sex', 'discipline'], data=salaries)\n",
    "print(\"\\nWelch's ANOVA Results:\")\n",
    "print(welch_anova)"
   ]
  },
  {
   "cell_type": "markdown",
   "metadata": {},
   "source": [
    "GOODNESS OF FIT (KOLMOGOROV-SMIRNOV) for 2 samples"
   ]
  },
  {
   "cell_type": "code",
   "execution_count": null,
   "metadata": {},
   "outputs": [],
   "source": [
    "ks_stat, ks_p_value = ks_2samp(male_credit['amount'], female_credit['amount'])\n",
    "\n",
    "print(\"\\nKolmogorov-Smirnov Test:\")\n",
    "print(f\"KS Statistic = {ks_stat}\")\n",
    "print(f\"P-value = {ks_p_value}\")\n",
    "\n",
    "if ks_p_value < 0.05:\n",
    "    print(\"The distributions of credit amounts for males and females are significantly different.\")\n",
    "else:\n",
    "    print(\"The distributions of credit amounts for males and females are not significantly different.\")\n"
   ]
  },
  {
   "cell_type": "markdown",
   "metadata": {},
   "source": [
    "EFFECT SIZE AND POWER"
   ]
  },
  {
   "cell_type": "code",
   "execution_count": null,
   "metadata": {},
   "outputs": [],
   "source": [
    "# ---------------------\n",
    "# Step 1: Calculate Effect Size (Cohen's d)\n",
    "# ---------------------\n",
    "# Separate total_bill amounts for smokers and non-smokers\n",
    "smokers = tips[tips['smoker'] == 'Yes']['total_bill']  #GET DATASET\n",
    "non_smokers = tips[tips['smoker'] == 'No']['total_bill']\n",
    "\n",
    "# Compute means and standard deviations\n",
    "mean_smokers = smokers.mean()\n",
    "mean_non_smokers = non_smokers.mean()\n",
    "std_smokers = smokers.std()\n",
    "std_non_smokers = non_smokers.std()\n",
    "\n",
    "# Pooled standard deviation\n",
    "n_smokers = len(smokers)\n",
    "n_non_smokers = len(non_smokers)\n",
    "pooled_std = np.sqrt(((n_smokers - 1) * std_smokers**2 + (n_non_smokers - 1) * std_non_smokers**2) /\n",
    "                     (n_smokers + n_non_smokers - 2))\n",
    "\n",
    "# Cohen's d\n",
    "effect_size = (mean_smokers - mean_non_smokers) / pooled_std\n",
    "print(f\"Effect Size (Cohen's d): {effect_size:.4f}\")\n",
    "\n",
    "# ---------------------\n",
    "# Step 2: Calculate Statistical Power\n",
    "# ---------------------\n",
    "# Define the test parameters\n",
    "alpha = 0.05  # Significance level\n",
    "analysis = TTestIndPower()\n",
    "power = analysis.power(effect_size=effect_size, nobs1=n_smokers, alpha=alpha, ratio=n_non_smokers / n_smokers)\n",
    "\n",
    "print(f\"Power of the test: {power:.4f}\")\n",
    "\n",
    "# ---------------------\n",
    "# Step 3: Determine Required Sample Size for 90% Power\n",
    "# ---------------------\n",
    "# Calculate the required sample size for 90% power\n",
    "required_n = analysis.solve_power(effect_size=effect_size, power=0.90, alpha=alpha, ratio=n_non_smokers / n_smokers)\n",
    "print(f\"Required sample size per group for 90% power: {np.ceil(required_n):.0f}\")"
   ]
  },
  {
   "cell_type": "markdown",
   "metadata": {},
   "source": [
    "PAIRED T-TEST"
   ]
  },
  {
   "cell_type": "code",
   "execution_count": null,
   "metadata": {},
   "outputs": [],
   "source": [
    "import numpy as np\n",
    "import scipy.stats as stats\n",
    "\n",
    "# Sample data\n",
    "before = np.array([85, 78, 92, 88, 76])\n",
    "after = np.array([80, 75, 89, 86, 78])\n",
    "\n",
    "# Paired t-test\n",
    "t_stat, p_value_t = stats.ttest_rel(before, after)\n",
    "print(f\"Paired t-test: t-statistic = {t_stat}, p-value = {p_value_t}\")"
   ]
  },
  {
   "cell_type": "markdown",
   "metadata": {},
   "source": [
    "WILCOXON PAIRED"
   ]
  },
  {
   "cell_type": "code",
   "execution_count": null,
   "metadata": {},
   "outputs": [],
   "source": [
    "import numpy as np\n",
    "import scipy.stats as stats\n",
    "\n",
    "# Sample data\n",
    "before = np.array([85, 78, 92, 88, 76])\n",
    "after = np.array([80, 75, 89, 86, 78])\n",
    "\n",
    "# Wilcoxon signed-rank test\n",
    "w_stat, p_value_w = stats.wilcoxon(before, after)\n",
    "print(f\"Wilcoxon signed-rank test: W-statistic = {w_stat}, p-value = {p_value_w}\")"
   ]
  }
 ],
 "metadata": {
  "kernelspec": {
   "display_name": "Python 3",
   "language": "python",
   "name": "python3"
  },
  "language_info": {
   "codemirror_mode": {
    "name": "ipython",
    "version": 3
   },
   "file_extension": ".py",
   "mimetype": "text/x-python",
   "name": "python",
   "nbconvert_exporter": "python",
   "pygments_lexer": "ipython3",
   "version": "3.12.7"
  }
 },
 "nbformat": 4,
 "nbformat_minor": 2
}
