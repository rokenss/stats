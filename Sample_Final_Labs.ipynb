{
 "cells": [
  {
   "cell_type": "markdown",
   "metadata": {},
   "source": [
    "## Introduction to the Sample Final Test\n",
    "\n",
    "Dear Students,\n",
    "\n",
    "Welcome to the sample final test for our laboratory course. This test is designed to assess your understanding and application of the concepts and techniques we have covered throughout the semester. \n",
    "\n",
    "Instructions:\n",
    "\n",
    "Read Each Question Carefully: Ensure you understand what is being asked before you start coding.\n",
    "\n",
    "Write Clean and Commented Code: Your code should be well-organized and include comments explaining your logic.\n",
    "\n",
    "Test Your Code: Make sure to test your code with different inputs to ensure it works correctly.\n",
    "\n",
    "Conclusions: Make final decisions, decide about the statistical and practical significance. \n",
    "\n",
    "Resources:\n",
    "\n",
    "You are allowed to use your notes, textbooks, and online resources to help you complete the test. \n",
    "\n",
    "**Please be advised that the use of any Generative AI (GenAI) tools is strictly prohibited during this test. This includes, but is not limited to, tools that generate code, text, or any other form of content based on AI algorithms.**\n",
    "\n",
    "Collaboration with classmates is not permitted. This test is an individual assessment of your skills.\n",
    "\n",
    "I encourage you to take your time and approach each question methodically. This test is an opportunity to demonstrate your proficiency and understanding of the material. \n",
    "\n",
    "Best regards,\n",
    "\n",
    "Karol\n",
    "/Mathematical Statistics 2024/2025/\n",
    "\n"
   ]
  },
  {
   "cell_type": "markdown",
   "metadata": {},
   "source": [
    "# Task 1: Verify the Hypothesis\n",
    "\n",
    "Objective: Verify the hypothesis that the salaries of professors working in theoretical departments (B) are much lower than those working in applied departments (A)."
   ]
  },
  {
   "cell_type": "code",
   "execution_count": 2,
   "metadata": {},
   "outputs": [
    {
     "name": "stdout",
     "output_type": "stream",
     "text": [
      "   rownames      rank discipline  yrs.since.phd  yrs.service   sex  salary\n",
      "0         1      Prof          B             19           18  Male  139750\n",
      "1         2      Prof          B             20           16  Male  173200\n",
      "2         3  AsstProf          B              4            3  Male   79750\n",
      "3         4      Prof          B             45           39  Male  115000\n",
      "4         5      Prof          B             40           41  Male  141500\n"
     ]
    }
   ],
   "source": [
    "import pandas as pd\n",
    "\n",
    "# Load the Salaries dataset from the URL\n",
    "url = \"https://vincentarelbundock.github.io/Rdatasets/csv/carData/Salaries.csv\"\n",
    "salaries = pd.read_csv(url)\n",
    "\n",
    "# Filter the data based on the department type\n",
    "theoretical_salaries = salaries[salaries['discipline'] == 'B']['salary']\n",
    "applied_salaries = salaries[salaries['discipline'] == 'A']['salary']\n",
    "\n",
    "# Display the first few rows of the dataset\n",
    "print(salaries.head())"
   ]
  },
  {
   "cell_type": "code",
   "execution_count": 8,
   "metadata": {},
   "outputs": [
    {
     "name": "stdout",
     "output_type": "stream",
     "text": [
      "Shapiro-Wilk Test for Normality:\n",
      "Theoretical (B): W-statistic = 0.9611942982211146 , P-value = 1.2710090838425288e-05\n",
      "Applied (A): W-statistic = 0.9418299292200768 , P-value = 1.0267201943205751e-06\n",
      "Theoretical salaries are NOT normally distributed.\n",
      "Applied salaries are NOT normally distributed.\n",
      "\n",
      "At least one group is NOT normally distributed. Proceeding with Mann-Whitney U Test.\n",
      "\n",
      "Mann-Whitney U Test Results:\n",
      "U-statistic = 23386.0\n",
      "P-value = 0.0007516255132504605\n",
      "We reject the null hypothesis: There is a significant difference in salaries.\n"
     ]
    }
   ],
   "source": [
    "# your solution\n",
    "from scipy.stats import shapiro, mannwhitneyu\n",
    "import pandas as pd\n",
    "import numpy as np\n",
    "import matplotlib.pyplot as plt\n",
    "import seaborn as sns\n",
    "from scipy.stats import ttest_ind\n",
    "\n",
    "# 1. Normality Test (Shapiro-Wilk Test)\n",
    "print(\"Shapiro-Wilk Test for Normality:\")\n",
    "shapiro_theoretical = shapiro(theoretical_salaries)\n",
    "shapiro_applied = shapiro(applied_salaries)\n",
    "\n",
    "print(\"Theoretical (B): W-statistic =\", shapiro_theoretical.statistic, \", P-value =\", shapiro_theoretical.pvalue)\n",
    "print(\"Applied (A): W-statistic =\", shapiro_applied.statistic, \", P-value =\", shapiro_applied.pvalue)\n",
    "\n",
    "# Interpret Shapiro-Wilk test results\n",
    "if shapiro_theoretical.pvalue < 0.05:\n",
    "    print(\"Theoretical salaries are NOT normally distributed.\")\n",
    "else:\n",
    "    print(\"Theoretical salaries are normally distributed.\")\n",
    "\n",
    "if shapiro_applied.pvalue < 0.05:\n",
    "    print(\"Applied salaries are NOT normally distributed.\")\n",
    "else:\n",
    "    print(\"Applied salaries are normally distributed.\")\n",
    "\n",
    "# 2. Choose the Appropriate Test\n",
    "if shapiro_theoretical.pvalue >= 0.05 and shapiro_applied.pvalue >= 0.05:\n",
    "    print(\"\\nBoth groups are normally distributed. Proceeding with T-test.\")\n",
    "    # Perform T-test\n",
    "    t_stat, p_value = ttest_ind(theoretical_salaries, applied_salaries, equal_var=False)  # Welch's T-test\n",
    "    print(\"\\nT-Test Results:\")\n",
    "    print(\"T-statistic =\", t_stat)\n",
    "    print(\"P-value =\", p_value)\n",
    "    \n",
    "    if p_value < 0.05:\n",
    "        print(\"We reject the null hypothesis: There is a significant difference in salaries.\")\n",
    "    else:\n",
    "        print(\"We fail to reject the null hypothesis: There is no significant difference in salaries.\")\n",
    "else:\n",
    "    print(\"\\nAt least one group is NOT normally distributed. Proceeding with Mann-Whitney U Test.\")\n",
    "    # Perform Mann-Whitney U Test\n",
    "    u_stat, p_value = mannwhitneyu(theoretical_salaries, applied_salaries, alternative='two-sided')\n",
    "    print(\"\\nMann-Whitney U Test Results:\")\n",
    "    print(\"U-statistic =\", u_stat)\n",
    "    print(\"P-value =\", p_value)\n",
    "    \n",
    "    if p_value < 0.05:\n",
    "        print(\"We reject the null hypothesis: There is a significant difference in salaries.\")\n",
    "    else:\n",
    "        print(\"We fail to reject the null hypothesis: There is no significant difference in salaries.\")\n"
   ]
  },
  {
   "cell_type": "markdown",
   "metadata": {},
   "source": [
    "# Task 2: Verify the Hypothesis\n",
    "\n",
    "Objective: Verify if the proportion of higher rank professors (associate and full professors) is significantly different between male and female scientists."
   ]
  },
  {
   "cell_type": "code",
   "execution_count": 29,
   "metadata": {},
   "outputs": [
    {
     "name": "stdout",
     "output_type": "stream",
     "text": [
      "Contingency Table:\n",
      "rank    AssocProf  Prof\n",
      "sex                    \n",
      "Female         10    18\n",
      "Male           54   248\n",
      "\n",
      "Chi-Square Test Results:\n",
      "Chi-Square Statistic = 4.134655979582055\n",
      "P-value = 0.04201360631381731\n",
      "Degrees of Freedom = 1\n",
      "Expected Frequencies:\n",
      "[[  5.43030303  22.56969697]\n",
      " [ 58.56969697 243.43030303]]\n",
      "\n",
      "Chi-Square test is valid. No need for Fisher's Exact Test.\n",
      "\n",
      "Conclusion: We reject the null hypothesis. The proportion of higher rank professors is significantly different between males and females.\n"
     ]
    }
   ],
   "source": [
    "from scipy.stats import chi2_contingency, fisher_exact\n",
    "\n",
    "higher_rank = salaries[(salaries['rank'] == 'AssocProf') | (salaries['rank'] == 'Prof')]\n",
    "\n",
    "# Since its proportion do contingency table\n",
    "contingency_table = pd.crosstab(higher_rank['sex'], higher_rank['rank'])\n",
    "print(\"Contingency Table:\")\n",
    "print(contingency_table)\n",
    "\n",
    "# Perform Chi-square\n",
    "chi2_stat, p_value, dof, expected = chi2_contingency(contingency_table)\n",
    "print(\"\\nChi-Square Test Results:\")\n",
    "print(\"Chi-Square Statistic =\", chi2_stat)\n",
    "print(\"P-value =\", p_value)\n",
    "print(\"Degrees of Freedom =\", dof)\n",
    "print(\"Expected Frequencies:\")\n",
    "print(expected)\n",
    "\n",
    "# 4. Fisher's Exact Test (for small sample sizes)\n",
    "if (expected < 5).any():\n",
    "    print(\"\\nExpected frequencies are too small. Using Fisher's Exact Test.\")\n",
    "    _, fisher_p_value = fisher_exact(contingency_table)\n",
    "    print(\"Fisher's Exact Test P-value =\", fisher_p_value)\n",
    "else:\n",
    "    print(\"\\nChi-Square test is valid. No need for Fisher's Exact Test.\")\n",
    "\n",
    "# Interpretation of Results\n",
    "if p_value < 0.05:\n",
    "    print(\"\\nConclusion: We reject the null hypothesis. The proportion of higher rank professors is significantly different between males and females.\")\n",
    "else:\n",
    "    print(\"\\nConclusion: We fail to reject the null hypothesis. The proportion of higher rank professors is not significantly different between males and females.\")\n"
   ]
  },
  {
   "cell_type": "markdown",
   "metadata": {},
   "source": [
    "# Task 3: Verify the Hypothesis\n",
    "\n",
    "Objective: Verify if the salaries of professors are significantly different based on rank, gender, and discipline, and check for interactions between these groups."
   ]
  },
  {
   "cell_type": "code",
   "execution_count": 32,
   "metadata": {},
   "outputs": [
    {
     "name": "stdout",
     "output_type": "stream",
     "text": [
      "Shapiro-Wilk Test:\n",
      "W-statistic = 0.9613257574800204, p-value = 1.0112685087472659e-08\n"
     ]
    },
    {
     "data": {
      "image/png": "[encoded data removed]",
      "text/plain": [
       "<Figure size 640x480 with 1 Axes>"
      ]
     },
     "metadata": {},
     "output_type": "display_data"
    },
    {
     "name": "stdout",
     "output_type": "stream",
     "text": [
      "\n",
      "Levene's Test:\n",
      "Statistic = 38.711118112709656, p-value = 4.47685638232478e-16\n",
      "                           sum_sq     df           F        PR(>F)\n",
      "rank                 1.452438e+11    2.0  140.044590  1.980674e-46\n",
      "sex                  7.587567e+08    1.0    1.463192  2.271652e-01\n",
      "discipline           1.847478e+10    1.0   35.626894  5.427699e-09\n",
      "rank:sex             2.184938e+08    2.0    0.210672  8.101327e-01\n",
      "rank:discipline      4.748308e+08    2.0    0.457833  6.329968e-01\n",
      "sex:discipline       4.619741e+08    1.0    0.890874  3.458325e-01\n",
      "rank:sex:discipline  1.323930e+08    2.0    0.127654  8.801953e-01\n",
      "Residual             1.996466e+11  385.0         NaN           NaN\n"
     ]
    }
   ],
   "source": [
    "# your solution\n",
    "from statsmodels.formula.api import ols\n",
    "import statsmodels.api as sm\n",
    "from statsmodels.stats.anova import anova_lm\n",
    "from scipy.stats import levene\n",
    "\n",
    "# Convert categorical variables to category data type\n",
    "salaries['rank'] = salaries['rank'].astype('category')\n",
    "salaries['sex'] = salaries['sex'].astype('category')\n",
    "salaries['discipline'] = salaries['discipline'].astype('category')\n",
    "\n",
    "# Specify the three-way ANOVA model\n",
    "# We include main effects and interaction terms\n",
    "model = ols('salary ~ rank * sex * discipline', data=salaries).fit()       # WE MULTIPLY FOR INTERACTIONS\n",
    "\n",
    "residuals = model.resid\n",
    "# Perform Shapiro-Wilk test for normality\n",
    "shapiro_test = shapiro(residuals)\n",
    "print(\"Shapiro-Wilk Test:\")\n",
    "print(f\"W-statistic = {shapiro_test.statistic}, p-value = {shapiro_test.pvalue}\")\n",
    "\n",
    "sm.qqplot(residuals, line='s', fit=True)\n",
    "plt.title(\"Q-Q Plot\")\n",
    "plt.tight_layout()\n",
    "plt.show()\n",
    "\n",
    "# Homogenity of variance\n",
    "levene_test = levene(\n",
    "    salaries[salaries['rank'] == 'Prof']['salary'],\n",
    "    salaries[salaries['rank'] == 'AssocProf']['salary'],\n",
    "    salaries[salaries['rank'] == 'AsstProf']['salary']\n",
    ")\n",
    "print(\"\\nLevene's Test:\")\n",
    "print(f\"Statistic = {levene_test.statistic}, p-value = {levene_test.pvalue}\")\n",
    "\n",
    "# It's normal so we perform ANOVA\n",
    "\n",
    "anova_results = anova_lm(model, typ=2)  # Type II ANOVA table\n",
    "print(anova_results)\n",
    "# Look at p-values and check for those lower than 0.05, these impact the salary"
   ]
  },
  {
   "cell_type": "markdown",
   "metadata": {},
   "source": [
    "# Task 4: Verify the Hypothesis\n",
    "\n",
    "Objective: Verify if credit amounts (in DM) are significantly different for people applying with different job, personal status, sex, or age."
   ]
  },
  {
   "cell_type": "code",
   "execution_count": 1,
   "metadata": {},
   "outputs": [
    {
     "name": "stdout",
     "output_type": "stream",
     "text": [
      "                status  duration                            credit_history  \\\n",
      "0         ... < 100 DM         6   critical account/other credits existing   \n",
      "1    0 <= ... < 200 DM        48  existing credits paid back duly till now   \n",
      "2  no checking account        12   critical account/other credits existing   \n",
      "3         ... < 100 DM        42  existing credits paid back duly till now   \n",
      "4         ... < 100 DM        24           delay in paying off in the past   \n",
      "\n",
      "               purpose  amount                     savings  \\\n",
      "0  domestic appliances    1169  unknown/no savings account   \n",
      "1  domestic appliances    5951                ... < 100 DM   \n",
      "2           retraining    2096                ... < 100 DM   \n",
      "3     radio/television    7882                ... < 100 DM   \n",
      "4            car (new)    4870                ... < 100 DM   \n",
      "\n",
      "  employment_duration  installment_rate                  personal_status_sex  \\\n",
      "0      ... >= 7 years                 4                        male : single   \n",
      "1  1 <= ... < 4 years                 2  female : divorced/separated/married   \n",
      "2  4 <= ... < 7 years                 2                        male : single   \n",
      "3  4 <= ... < 7 years                 2                        male : single   \n",
      "4  1 <= ... < 4 years                 3                        male : single   \n",
      "\n",
      "  other_debtors  ...                                           property age  \\\n",
      "0          none  ...                                        real estate  67   \n",
      "1          none  ...                                        real estate  22   \n",
      "2          none  ...                                        real estate  49   \n",
      "3     guarantor  ...  building society savings agreement/life insurance  45   \n",
      "4          none  ...                                unknown/no property  53   \n",
      "\n",
      "   other_installment_plans   housing number_credits  \\\n",
      "0                     none       own              2   \n",
      "1                     none       own              1   \n",
      "2                     none       own              1   \n",
      "3                     none  for free              1   \n",
      "4                     none  for free              2   \n",
      "\n",
      "                         job people_liable  telephone foreign_worker  \\\n",
      "0  skilled employee/official             1        yes            yes   \n",
      "1  skilled employee/official             1         no            yes   \n",
      "2       unskilled - resident             2         no            yes   \n",
      "3  skilled employee/official             2         no            yes   \n",
      "4  skilled employee/official             2         no            yes   \n",
      "\n",
      "  credit_risk  \n",
      "0           1  \n",
      "1           0  \n",
      "2           1  \n",
      "3           1  \n",
      "4           0  \n",
      "\n",
      "[5 rows x 21 columns]\n"
     ]
    }
   ],
   "source": [
    "import pandas as pd\n",
    "\n",
    "# Load the GermanCredit dataset from GitHub\n",
    "url = \"https://raw.githubusercontent.com/selva86/datasets/master/GermanCredit.csv\"\n",
    "germancredit = pd.read_csv(url)\n",
    "\n",
    "# Display the first few rows of the dataset\n",
    "print(germancredit.head())"
   ]
  },
  {
   "cell_type": "code",
   "execution_count": 2,
   "metadata": {},
   "outputs": [
    {
     "name": "stdout",
     "output_type": "stream",
     "text": [
      "                status  duration                            credit_history  \\\n",
      "0         ... < 100 DM         6   critical account/other credits existing   \n",
      "1    0 <= ... < 200 DM        48  existing credits paid back duly till now   \n",
      "2  no checking account        12   critical account/other credits existing   \n",
      "3         ... < 100 DM        42  existing credits paid back duly till now   \n",
      "4         ... < 100 DM        24           delay in paying off in the past   \n",
      "\n",
      "               purpose  amount                     savings  \\\n",
      "0  domestic appliances    1169  unknown/no savings account   \n",
      "1  domestic appliances    5951                ... < 100 DM   \n",
      "2           retraining    2096                ... < 100 DM   \n",
      "3     radio/television    7882                ... < 100 DM   \n",
      "4            car (new)    4870                ... < 100 DM   \n",
      "\n",
      "  employment_duration  installment_rate                  personal_status_sex  \\\n",
      "0      ... >= 7 years                 4                        male : single   \n",
      "1  1 <= ... < 4 years                 2  female : divorced/separated/married   \n",
      "2  4 <= ... < 7 years                 2                        male : single   \n",
      "3  4 <= ... < 7 years                 2                        male : single   \n",
      "4  1 <= ... < 4 years                 3                        male : single   \n",
      "\n",
      "  other_debtors  ...                                           property age  \\\n",
      "0          none  ...                                        real estate  67   \n",
      "1          none  ...                                        real estate  22   \n",
      "2          none  ...                                        real estate  49   \n",
      "3     guarantor  ...  building society savings agreement/life insurance  45   \n",
      "4          none  ...                                unknown/no property  53   \n",
      "\n",
      "   other_installment_plans   housing number_credits  \\\n",
      "0                     none       own              2   \n",
      "1                     none       own              1   \n",
      "2                     none       own              1   \n",
      "3                     none  for free              1   \n",
      "4                     none  for free              2   \n",
      "\n",
      "                         job people_liable  telephone foreign_worker  \\\n",
      "0  skilled employee/official             1        yes            yes   \n",
      "1  skilled employee/official             1         no            yes   \n",
      "2       unskilled - resident             2         no            yes   \n",
      "3  skilled employee/official             2         no            yes   \n",
      "4  skilled employee/official             2         no            yes   \n",
      "\n",
      "  credit_risk  \n",
      "0           1  \n",
      "1           0  \n",
      "2           1  \n",
      "3           1  \n",
      "4           0  \n",
      "\n",
      "[5 rows x 21 columns]\n",
      "Shapiro-Wilk Test for Normality:\n",
      "W-statistic = 0.7933961638083256, p-value = 8.608545621331088e-34\n",
      "Credit amounts are NOT normally distributed.\n"
     ]
    },
    {
     "name": "stderr",
     "output_type": "stream",
     "text": [
      "C:\\Users\\rokig\\AppData\\Local\\Temp\\ipykernel_13940\\3620418443.py:38: SmallSampleWarning: One or more sample arguments is too small; all returned values will be NaN. See documentation for sample size requirements.\n",
      "  levene_test = levene(\n",
      "C:\\Users\\rokig\\AppData\\Local\\Temp\\ipykernel_13940\\3620418443.py:69: SmallSampleWarning: One or more sample arguments is too small; all returned values will be NaN. See documentation for sample size requirements.\n",
      "  kruskal_test = kruskal(\n"
     ]
    },
    {
     "name": "stdout",
     "output_type": "stream",
     "text": [
      "\n",
      "Levene's Test for Homogeneity of Variance:\n",
      "Statistic = nan, p-value = nan\n",
      "Variance is homogeneous.\n",
      "\n",
      "ANOVA Results (Amount ~ Job):\n",
      "                sum_sq     df          F        PR(>F)\n",
      "C(job)    8.912010e+08    3.0  41.857738  1.771472e-25\n",
      "Residual  7.068675e+09  996.0        NaN           NaN\n",
      "\n",
      "ANOVA Results (Amount ~ Age Group):\n",
      "                    sum_sq     df         F   PR(>F)\n",
      "C(age_group)  6.791897e+06    2.0  0.425717  0.65342\n",
      "Residual      7.953084e+09  997.0       NaN      NaN\n",
      "\n",
      "Kruskal-Wallis Test Results (Amount ~ Job):\n",
      "Statistic = nan, p-value = nan\n",
      "\n",
      "Tukey Post-Hoc Test:\n",
      "                                             Multiple Comparison of Means - Tukey HSD, FWER=0.05                                             \n",
      "=============================================================================================================================================\n",
      "                          group1                                          group2                meandiff  p-adj    lower      upper    reject\n",
      "---------------------------------------------------------------------------------------------------------------------------------------------\n",
      "management/self-employed/highly qualified employee/officer           skilled employee/official -2364.5282    0.0 -2990.7538 -1738.3025   True\n",
      "management/self-employed/highly qualified employee/officer unemployed/unskilled - non-resident -2690.3569 0.0001 -4256.8353 -1123.8784   True\n",
      "management/self-employed/highly qualified employee/officer                unskilled - resident -3076.9732    0.0 -3820.3106 -2333.6359   True\n",
      "                                 skilled employee/official unemployed/unskilled - non-resident  -325.8287 0.9427 -1812.7376  1161.0801  False\n",
      "                                 skilled employee/official                unskilled - resident  -712.4451 0.0056 -1268.8564  -156.0338   True\n",
      "                       unemployed/unskilled - non-resident                unskilled - resident  -386.6164 0.9169 -1926.5156  1153.2829  False\n",
      "---------------------------------------------------------------------------------------------------------------------------------------------\n"
     ]
    },
    {
     "data": {
      "image/png": "[encoded data removed]",
      "text/plain": [
       "<Figure size 1000x600 with 1 Axes>"
      ]
     },
     "metadata": {},
     "output_type": "display_data"
    },
    {
     "data": {
      "image/png": "[encoded data removed]",
      "text/plain": [
       "<Figure size 1000x600 with 1 Axes>"
      ]
     },
     "metadata": {},
     "output_type": "display_data"
    }
   ],
   "source": [
    "import pandas as pd\n",
    "import numpy as np\n",
    "import seaborn as sns\n",
    "import matplotlib.pyplot as plt\n",
    "from scipy.stats import shapiro, levene, kruskal\n",
    "from statsmodels.formula.api import ols\n",
    "from statsmodels.stats.anova import anova_lm\n",
    "from statsmodels.stats.multicomp import pairwise_tukeyhsd\n",
    "\n",
    "\n",
    "df = germancredit\n",
    "# Check the data\n",
    "print(df.head())\n",
    "\n",
    "# ------------------------\n",
    "# Step 1: Data Preparation\n",
    "# ------------------------\n",
    "# Convert categorical variables to category dtype\n",
    "df['job'] = df['job'].astype('category')\n",
    "df['personal_status_sex'] = df['personal_status_sex'].astype('category')\n",
    "\n",
    "# Optional: Bin age into groups (e.g., <30, 30-50, >50)\n",
    "df['age_group'] = pd.cut(df['age'].astype(int), bins=[0, 30, 50, 100], labels=['<30', '30-50', '>50'])\n",
    "\n",
    "# -------------------------\n",
    "# Step 2: Check Assumptions\n",
    "# -------------------------\n",
    "# (a) Normality Test (Shapiro-Wilk) on credit amount\n",
    "shapiro_test = shapiro(df['amount'])\n",
    "print(\"Shapiro-Wilk Test for Normality:\")\n",
    "print(f\"W-statistic = {shapiro_test.statistic}, p-value = {shapiro_test.pvalue}\")\n",
    "if shapiro_test.pvalue < 0.05:\n",
    "    print(\"Credit amounts are NOT normally distributed.\")\n",
    "else:\n",
    "    print(\"Credit amounts are normally distributed.\")\n",
    "\n",
    "# (b) Homogeneity of Variance (Levene's Test)\n",
    "levene_test = levene(\n",
    "    df[df['job'] == 'job1']['amount'],\n",
    "    df[df['job'] == 'job2']['amount'],\n",
    "    df[df['job'] == 'job3']['amount']\n",
    ")\n",
    "print(\"\\nLevene's Test for Homogeneity of Variance:\")\n",
    "print(f\"Statistic = {levene_test.statistic}, p-value = {levene_test.pvalue}\")\n",
    "if levene_test.pvalue < 0.05:\n",
    "    print(\"Variance is NOT homogeneous.\")\n",
    "else:\n",
    "    print(\"Variance is homogeneous.\")\n",
    "\n",
    "# ------------------------\n",
    "# Step 3: Perform ANOVA\n",
    "# ------------------------\n",
    "# Example ANOVA: Credit amount by job type\n",
    "model = ols('amount ~ C(job)', data=df).fit()\n",
    "anova_results = anova_lm(model, typ=2)\n",
    "print(\"\\nANOVA Results (Amount ~ Job):\")\n",
    "print(anova_results)\n",
    "\n",
    "# Example ANOVA: Credit amount by age group\n",
    "model_age = ols('amount ~ C(age_group)', data=df).fit()\n",
    "anova_age_results = anova_lm(model_age, typ=2)\n",
    "print(\"\\nANOVA Results (Amount ~ Age Group):\")\n",
    "print(anova_age_results)\n",
    "\n",
    "# ---------------------------\n",
    "# Step 4: Non-Parametric Test\n",
    "# ---------------------------\n",
    "# If assumptions are violated, use Kruskal-Wallis\n",
    "kruskal_test = kruskal(\n",
    "    df[df['job'] == 'job1']['amount'],\n",
    "    df[df['job'] == 'job2']['amount'],\n",
    "    df[df['job'] == 'job3']['amount']\n",
    ")\n",
    "print(\"\\nKruskal-Wallis Test Results (Amount ~ Job):\")\n",
    "print(f\"Statistic = {kruskal_test.statistic}, p-value = {kruskal_test.pvalue}\")\n",
    "\n",
    "# -----------------------\n",
    "# Step 5: Post-Hoc Tests\n",
    "# -----------------------\n",
    "# Tukey's Test for pairwise comparisons (if ANOVA is significant)\n",
    "tukey = pairwise_tukeyhsd(df['amount'], df['job'])\n",
    "print(\"\\nTukey Post-Hoc Test:\")\n",
    "print(tukey)\n",
    "\n",
    "# --------------------\n",
    "# Step 6: Visualization\n",
    "# --------------------\n",
    "# Boxplot for visual comparison\n",
    "plt.figure(figsize=(10, 6))\n",
    "sns.boxplot(x='job', y='amount', data=df)\n",
    "plt.title(\"Credit Amount by Job\")\n",
    "plt.show()\n",
    "\n",
    "plt.figure(figsize=(10, 6))\n",
    "sns.boxplot(x='age_group', y='amount', data=df)\n",
    "plt.title(\"Credit Amount by Age Group\")\n",
    "plt.show()\n"
   ]
  },
  {
   "cell_type": "markdown",
   "metadata": {},
   "source": [
    "# Task 5: Evaluate Interaction Between Group and Time\n",
    "\n",
    "Description: \n",
    "\n",
    "The data provide the anxiety score, measured at three time points, of three groups of individuals practicing physical exercises at different levels (grp1: basal, grp2: moderate and grp3: high)\n",
    "\n",
    "Objective: Evaluate if there is an interaction between group and time in explaining anxiety scores."
   ]
  },
  {
   "cell_type": "code",
   "execution_count": 13,
   "metadata": {},
   "outputs": [
    {
     "name": "stdout",
     "output_type": "stream",
     "text": [
      "   Unnamed: 0  id group    t1    t2    t3\n",
      "0           1   1  grp1  14.1  14.4  14.1\n",
      "1           2   2  grp1  14.5  14.6  14.3\n",
      "2           3   3  grp1  15.7  15.2  14.9\n",
      "3           4   4  grp1  16.0  15.5  15.3\n",
      "4           5   5  grp1  16.5  15.8  15.7\n"
     ]
    }
   ],
   "source": [
    "import pandas as pd\n",
    "\n",
    "# Load the anxiety dataset from GitHub\n",
    "url = \"https://raw.githubusercontent.com/kflisikowski/ds/master/anxiety.csv\"\n",
    "anxiety_data = pd.read_csv(url)\n",
    "\n",
    "# Display the first few rows of the dataset\n",
    "print(anxiety_data.head())"
   ]
  },
  {
   "cell_type": "code",
   "execution_count": null,
   "metadata": {},
   "outputs": [],
   "source": [
    "# your solution"
   ]
  },
  {
   "cell_type": "markdown",
   "metadata": {},
   "source": [
    "# Task 6: Evaluate the Goodness of Fit\n",
    "\n",
    "Objective: Use the goodness of fit test to determine whether the distribution of credit amounts for male customers matches that of female customers."
   ]
  },
  {
   "cell_type": "code",
   "execution_count": 6,
   "metadata": {},
   "outputs": [
    {
     "name": "stdout",
     "output_type": "stream",
     "text": [
      "\n",
      "Kolmogorov-Smirnov Test:\n",
      "KS Statistic = 0.1305750350631136\n",
      "P-value = 0.0012052294301572195\n",
      "The distributions of credit amounts for males and females are significantly different.\n"
     ]
    }
   ],
   "source": [
    "import pandas as pd\n",
    "from scipy.stats import ks_2samp\n",
    "\n",
    "# Load the German Credit dataset from GitHub\n",
    "url = \"https://raw.githubusercontent.com/selva86/datasets/master/GermanCredit.csv\"\n",
    "germancredit = pd.read_csv(url)\n",
    "df = germancredit\n",
    "# Extract gender by splitting the string\n",
    "df['gender'] = df['personal_status_sex'].str.split(':').str[0].str.strip()\n",
    "\n",
    "\n",
    "male_credit = df[df['gender'] == 'male']\n",
    "female_credit = df[df['gender'] == 'female']\n",
    "\n",
    "\n",
    "# Perform the KS test\n",
    "ks_stat, ks_p_value = ks_2samp(male_credit['amount'], female_credit['amount'])\n",
    "\n",
    "print(\"\\nKolmogorov-Smirnov Test:\")\n",
    "print(f\"KS Statistic = {ks_stat}\")\n",
    "print(f\"P-value = {ks_p_value}\")\n",
    "\n",
    "if ks_p_value < 0.05:\n",
    "    print(\"The distributions of credit amounts for males and females are significantly different.\")\n",
    "else:\n",
    "    print(\"The distributions of credit amounts for males and females are not significantly different.\")\n"
   ]
  },
  {
   "cell_type": "code",
   "execution_count": null,
   "metadata": {},
   "outputs": [],
   "source": [
    "# your solution"
   ]
  },
  {
   "cell_type": "markdown",
   "metadata": {},
   "source": [
    "# Task 7: Evaluate the Change in Asthma Symptoms Over Time\n",
    "\n",
    "Objective: determine if there is a significant change in asthma symptoms reported by participants at two different time points."
   ]
  },
  {
   "cell_type": "code",
   "execution_count": 2,
   "metadata": {},
   "outputs": [
    {
     "name": "stdout",
     "output_type": "stream",
     "text": [
      "  know_begin know_end\n",
      "0        yes      yes\n",
      "1         no       no\n",
      "2        yes       no\n",
      "3         no       no\n",
      "4         no       no\n"
     ]
    }
   ],
   "source": [
    "import pandas as pd\n",
    "\n",
    "# Load the asthma dataset from GitHub\n",
    "url = \"https://github.com/bougioukas/basic_stats_R/raw/main/data/asthma.xlsx\"\n",
    "asthma_data = pd.read_excel(url)\n",
    "\n",
    "# Display the first few rows of the dataset\n",
    "print(asthma_data.head())"
   ]
  },
  {
   "cell_type": "code",
   "execution_count": null,
   "metadata": {},
   "outputs": [],
   "source": [
    "# your solution"
   ]
  },
  {
   "cell_type": "markdown",
   "metadata": {},
   "source": [
    "# Task 8: Differences of BG readings Over Time \n",
    "\n",
    "Objective: determine if there is a significant difference in the blood glucose (BG) readings over multiple time points.\n",
    "\n",
    "Data: let's use a hypothethical example of blood glucose (BG) readings of persons with diabetes.\n",
    "\n",
    "The test is done three times, say before, within and after a given clinical treatment and we want to know if there is a significant difference within the groups (times)."
   ]
  },
  {
   "cell_type": "code",
   "execution_count": 4,
   "metadata": {},
   "outputs": [
    {
     "data": {
      "text/html": [
       "<div>\n",
       "<style scoped>\n",
       "    .dataframe tbody tr th:only-of-type {\n",
       "        vertical-align: middle;\n",
       "    }\n",
       "\n",
       "    .dataframe tbody tr th {\n",
       "        vertical-align: top;\n",
       "    }\n",
       "\n",
       "    .dataframe thead th {\n",
       "        text-align: right;\n",
       "    }\n",
       "</style>\n",
       "<table border=\"1\" class=\"dataframe\">\n",
       "  <thead>\n",
       "    <tr style=\"text-align: right;\">\n",
       "      <th></th>\n",
       "      <th>before</th>\n",
       "      <th>during</th>\n",
       "      <th>after</th>\n",
       "    </tr>\n",
       "    <tr>\n",
       "      <th>Subject</th>\n",
       "      <th></th>\n",
       "      <th></th>\n",
       "      <th></th>\n",
       "    </tr>\n",
       "  </thead>\n",
       "  <tbody>\n",
       "    <tr>\n",
       "      <th>0</th>\n",
       "      <td>89.162573</td>\n",
       "      <td>94.023517</td>\n",
       "      <td>94.594145</td>\n",
       "    </tr>\n",
       "    <tr>\n",
       "      <th>1</th>\n",
       "      <td>90.857629</td>\n",
       "      <td>95.273755</td>\n",
       "      <td>95.040646</td>\n",
       "    </tr>\n",
       "    <tr>\n",
       "      <th>2</th>\n",
       "      <td>94.912999</td>\n",
       "      <td>96.612870</td>\n",
       "      <td>95.200472</td>\n",
       "    </tr>\n",
       "    <tr>\n",
       "      <th>3</th>\n",
       "      <td>95.254064</td>\n",
       "      <td>96.818673</td>\n",
       "      <td>97.205801</td>\n",
       "    </tr>\n",
       "    <tr>\n",
       "      <th>4</th>\n",
       "      <td>97.136291</td>\n",
       "      <td>97.760342</td>\n",
       "      <td>98.428840</td>\n",
       "    </tr>\n",
       "    <tr>\n",
       "      <th>5</th>\n",
       "      <td>99.809999</td>\n",
       "      <td>99.169227</td>\n",
       "      <td>98.867769</td>\n",
       "    </tr>\n",
       "    <tr>\n",
       "      <th>6</th>\n",
       "      <td>101.094087</td>\n",
       "      <td>99.579283</td>\n",
       "      <td>99.790581</td>\n",
       "    </tr>\n",
       "    <tr>\n",
       "      <th>7</th>\n",
       "      <td>101.531428</td>\n",
       "      <td>99.661758</td>\n",
       "      <td>100.669928</td>\n",
       "    </tr>\n",
       "    <tr>\n",
       "      <th>8</th>\n",
       "      <td>101.981148</td>\n",
       "      <td>100.812359</td>\n",
       "      <td>101.751155</td>\n",
       "    </tr>\n",
       "    <tr>\n",
       "      <th>9</th>\n",
       "      <td>101.993065</td>\n",
       "      <td>102.274035</td>\n",
       "      <td>101.751638</td>\n",
       "    </tr>\n",
       "  </tbody>\n",
       "</table>\n",
       "</div>"
      ],
      "text/plain": [
       "             before      during       after\n",
       "Subject                                    \n",
       "0         89.162573   94.023517   94.594145\n",
       "1         90.857629   95.273755   95.040646\n",
       "2         94.912999   96.612870   95.200472\n",
       "3         95.254064   96.818673   97.205801\n",
       "4         97.136291   97.760342   98.428840\n",
       "5         99.809999   99.169227   98.867769\n",
       "6        101.094087   99.579283   99.790581\n",
       "7        101.531428   99.661758  100.669928\n",
       "8        101.981148  100.812359  101.751155\n",
       "9        101.993065  102.274035  101.751638"
      ]
     },
     "execution_count": 4,
     "metadata": {},
     "output_type": "execute_result"
    }
   ],
   "source": [
    "# Read dataset from url:\n",
    "import io\n",
    "import requests\n",
    "url=\"https://raw.githubusercontent.com/trangel/stats-with-python/master/data/BG-db.csv\"\n",
    "s=requests.get(url).content\n",
    "df=pd.read_csv(io.StringIO(s.decode('utf-8')),index_col=0)\n",
    "\n",
    "\n",
    "df.columns=['before','during','after']\n",
    "df.index.name='Subject'\n",
    "df.head(10)"
   ]
  },
  {
   "cell_type": "code",
   "execution_count": null,
   "metadata": {},
   "outputs": [],
   "source": [
    "# your solution"
   ]
  },
  {
   "cell_type": "markdown",
   "metadata": {},
   "source": [
    "# Task 9: Evaluate the Change in Mice Weights Before and After Treatment\n",
    "\n",
    "Objective: determine if there is a significant difference in the weights of mice before and after treatment."
   ]
  },
  {
   "cell_type": "code",
   "execution_count": 6,
   "metadata": {},
   "outputs": [
    {
     "name": "stdout",
     "output_type": "stream",
     "text": [
      "    group  weight\n",
      "0  before   200.1\n",
      "1  before   190.9\n",
      "2  before   192.7\n",
      "3  before   213.0\n",
      "4  before   241.4\n",
      "5  before   196.9\n",
      "6  before   172.2\n",
      "7  before   185.5\n",
      "8  before   205.2\n",
      "9  before   193.7\n"
     ]
    }
   ],
   "source": [
    "import pandas as pd\n",
    "\n",
    "# Weight of the mice before treatment\n",
    "before = [200.1, 190.9, 192.7, 213, 241.4, 196.9, 172.2, 185.5, 205.2, 193.7]\n",
    "\n",
    "# Weight of the mice after treatment\n",
    "after = [392.9, 393.2, 345.1, 393, 434, 427.9, 422, 383.9, 392.3, 352.2]\n",
    "\n",
    "# Create a data frame\n",
    "my_data = pd.DataFrame({\n",
    "    'group': ['before'] * len(before) + ['after'] * len(after),\n",
    "    'weight': before + after\n",
    "})\n",
    "\n",
    "# Display the first few rows of the dataset\n",
    "print(my_data.head(10))"
   ]
  },
  {
   "cell_type": "code",
   "execution_count": null,
   "metadata": {},
   "outputs": [],
   "source": [
    "# your solution"
   ]
  },
  {
   "cell_type": "markdown",
   "metadata": {},
   "source": [
    "# Task 10: Calculate Effect Size and Power \n",
    "\n",
    "Objective: Use Python to calculate the effect size and power for a test comparing the total bill amounts between smokers and non-smokers. Interpret your results. If the power is not satisfactory - how many observations should we sample to achieve 90% power?\n",
    "\n",
    "The tips dataset contains information about tips received by waitstaff in a restaurant, including various attributes such as total bill, tip amount, sex of the bill payer, whether the payer is a smoker, day of the week, time of day, and size of the party.\n",
    "\n",
    "The tips dataset contains the following columns:\n",
    "\n",
    "total_bill: The total bill amount (including tip) in dollars.\n",
    "\n",
    "tip: The tip amount in dollars.\n",
    "\n",
    "sex: The sex of the bill payer (Male or Female).\n",
    "\n",
    "smoker: Whether the bill payer is a smoker (Yes or No).\n",
    "\n",
    "day: The day of the week (Thur, Fri, Sat, Sun).\n",
    "\n",
    "time: The time of day (Lunch or Dinner).\n",
    "\n",
    "size: The size of the party."
   ]
  },
  {
   "cell_type": "code",
   "execution_count": 7,
   "metadata": {},
   "outputs": [
    {
     "name": "stdout",
     "output_type": "stream",
     "text": [
      "   total_bill   tip     sex smoker  day    time  size\n",
      "0       16.99  1.01  Female     No  Sun  Dinner     2\n",
      "1       10.34  1.66    Male     No  Sun  Dinner     3\n",
      "2       21.01  3.50    Male     No  Sun  Dinner     3\n",
      "3       23.68  3.31    Male     No  Sun  Dinner     2\n",
      "4       24.59  3.61  Female     No  Sun  Dinner     4\n",
      "Effect Size (Cohen's d): 0.1764\n",
      "Power of the test: 0.2659\n",
      "Required sample size per group for 90% power: 547\n"
     ]
    }
   ],
   "source": [
    "import seaborn as sns\n",
    "import pandas as pd\n",
    "\n",
    "# Load the tips dataset\n",
    "tips = sns.load_dataset('tips')\n",
    "\n",
    "# Display the first few rows of the dataset\n",
    "print(tips.head())\n",
    "\n",
    "import pandas as pd\n",
    "import numpy as np\n",
    "from scipy.stats import ttest_ind\n",
    "from statsmodels.stats.power import TTestIndPower\n",
    "\n",
    "\n",
    "# ---------------------\n",
    "# Step 1: Calculate Effect Size (Cohen's d)\n",
    "# ---------------------\n",
    "# Separate total_bill amounts for smokers and non-smokers\n",
    "smokers = tips[tips['smoker'] == 'Yes']['total_bill']\n",
    "non_smokers = tips[tips['smoker'] == 'No']['total_bill']\n",
    "\n",
    "# Compute means and standard deviations\n",
    "mean_smokers = smokers.mean()\n",
    "mean_non_smokers = non_smokers.mean()\n",
    "std_smokers = smokers.std()\n",
    "std_non_smokers = non_smokers.std()\n",
    "\n",
    "# Pooled standard deviation\n",
    "n_smokers = len(smokers)\n",
    "n_non_smokers = len(non_smokers)\n",
    "pooled_std = np.sqrt(((n_smokers - 1) * std_smokers**2 + (n_non_smokers - 1) * std_non_smokers**2) /\n",
    "                     (n_smokers + n_non_smokers - 2))\n",
    "\n",
    "# Cohen's d\n",
    "effect_size = (mean_smokers - mean_non_smokers) / pooled_std\n",
    "print(f\"Effect Size (Cohen's d): {effect_size:.4f}\")\n",
    "\n",
    "# ---------------------\n",
    "# Step 2: Calculate Statistical Power\n",
    "# ---------------------\n",
    "# Define the test parameters\n",
    "alpha = 0.05  # Significance level\n",
    "analysis = TTestIndPower()\n",
    "power = analysis.power(effect_size=effect_size, nobs1=n_smokers, alpha=alpha, ratio=n_non_smokers / n_smokers)\n",
    "\n",
    "print(f\"Power of the test: {power:.4f}\")\n",
    "\n",
    "# ---------------------\n",
    "# Step 3: Determine Required Sample Size for 90% Power\n",
    "# ---------------------\n",
    "# Calculate the required sample size for 90% power\n",
    "required_n = analysis.solve_power(effect_size=effect_size, power=0.90, alpha=alpha, ratio=n_non_smokers / n_smokers)\n",
    "print(f\"Required sample size per group for 90% power: {np.ceil(required_n):.0f}\")\n"
   ]
  },
  {
   "cell_type": "code",
   "execution_count": null,
   "metadata": {},
   "outputs": [],
   "source": [
    "# your solution"
   ]
  }
 ],
 "metadata": {
  "kernelspec": {
   "display_name": "Python 3",
   "language": "python",
   "name": "python3"
  },
  "language_info": {
   "codemirror_mode": {
    "name": "ipython",
    "version": 3
   },
   "file_extension": ".py",
   "mimetype": "text/x-python",
   "name": "python",
   "nbconvert_exporter": "python",
   "pygments_lexer": "ipython3",
   "version": "3.12.7"
  }
 },
 "nbformat": 4,
 "nbformat_minor": 2
}
